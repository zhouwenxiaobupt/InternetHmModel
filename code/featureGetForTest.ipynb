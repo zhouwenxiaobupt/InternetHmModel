{
 "cells": [
  {
   "cell_type": "code",
   "execution_count": 4,
   "metadata": {},
   "outputs": [],
   "source": [
    "import pandas as pd\n",
    "import numpy as np\n",
    "import os\n",
    "from scipy import stats,signal,fftpack\n",
    "import math\n",
    "from pywt import wavedec"
   ]
  },
  {
   "cell_type": "code",
   "execution_count": 5,
   "metadata": {},
   "outputs": [],
   "source": [
    "#特征提取\n",
    "def feature_get(df_line,i):\n",
    "    feature_list = []\n",
    "    time_mean = df_line.mean()\n",
    "    time_std = df_line.std()\n",
    "    time_max = df_line.max()\n",
    "    time_min = df_line.min()\n",
    "    time_rms = np.sqrt(np.square(df_line).mean())\n",
    "    time_ptp = time_max-time_min \n",
    "    time_median = np.median(df_line)\n",
    "    time_iqr = np.percentile(df_line,75)-np.percentile(df_line,25)\n",
    "    time_pr = np.percentile(df_line,90)-np.percentile(df_line,10)\n",
    "    time_skew = stats.skew(df_line)\n",
    "    time_kurtosis = stats.kurtosis(df_line)\n",
    "    time_var = np.var(df_line)\n",
    "    time_amp = np.abs(df_line).mean()\n",
    "    #time_smr = np.square(np.sqrt(np.abs(df_line)).mean())\n",
    "    #下面四个特征需要注意分母为0或接近0问题，可能会发生报错\n",
    "    time_wavefactor = time_rms/time_amp\n",
    "    time_peakfactor = time_max/time_rms\n",
    "    time_pulse = time_max/time_amp\n",
    "    #time_margin = time_max/time_smr\n",
    "    #----------  freq-domain feature,15\n",
    "    #采样频率25600Hz\n",
    "    df_fftline = fftpack.fft(df_line)\n",
    "    freq_fftline = fftpack.fftfreq(len(df_line),1/25600)\n",
    "    df_fftline = abs(df_fftline[freq_fftline>=0])\n",
    "    freq_fftline = freq_fftline[freq_fftline>=0]\n",
    "    #基本特征,依次为均值，标准差，最大值，最小值，均方根，中位数，四分位差，百分位差\n",
    "    freq_mean = df_fftline.mean()\n",
    "    freq_std = df_fftline.std()\n",
    "    freq_max = df_fftline.max()\n",
    "    freq_min = df_fftline.min()\n",
    "    freq_rms = np.sqrt(np.square(df_fftline).mean())\n",
    "    freq_median = np.median(df_fftline)\n",
    "    freq_iqr = np.percentile(df_fftline,75)-np.percentile(df_fftline,25)\n",
    "    freq_pr = np.percentile(df_fftline,90)-np.percentile(df_fftline,10)\n",
    "    #f2 f3 f4反映频谱集中程度\n",
    "    freq_f2 = np.square((df_fftline-freq_mean)).sum()/(len(df_fftline)-1)\n",
    "    freq_f3 = pow((df_fftline-freq_mean),3).sum()/(len(df_fftline)*pow(freq_f2,1.5))\n",
    "    freq_f4 = pow((df_fftline-freq_mean),4).sum()/(len(df_fftline)*pow(freq_f2,2))\n",
    "    #f5 f6 f7 f8反映主频带位置\n",
    "    freq_f5 = np.multiply(freq_fftline,df_fftline).sum()/df_fftline.sum()\n",
    "    freq_f6 = np.sqrt(np.multiply(np.square(freq_fftline),df_fftline).sum())/df_fftline.sum()\n",
    "    freq_f7 = np.sqrt(np.multiply(pow(freq_fftline,4),df_fftline).sum())/np.multiply(np.square(freq_fftline),df_fftline).sum()\n",
    "    freq_f8 = np.multiply(np.square(freq_fftline),df_fftline).sum()/np.sqrt(np.multiply(pow(freq_fftline,4),df_fftline).sum()*df_fftline.sum())\n",
    "    #----------  timefreq-domain feature,12\n",
    "    #5级小波变换，最后输出6个能量特征和其归一化能量特征\n",
    "    cA5, cD5, cD4, cD3, cD2, cD1 = wavedec(df_line, 'db10', level=5)\n",
    "    ener_cA5 = np.square(cA5).sum()\n",
    "    ener_cD5 = np.square(cD5).sum()\n",
    "    ener_cD4 = np.square(cD4).sum()\n",
    "    ener_cD3 = np.square(cD3).sum()\n",
    "    ener_cD2 = np.square(cD2).sum()\n",
    "    ener_cD1 = np.square(cD1).sum()\n",
    "    ener = ener_cA5 + ener_cD1 + ener_cD2 + ener_cD3 + ener_cD4 + ener_cD5\n",
    "    ratio_cA5 = ener_cA5/ener\n",
    "    ratio_cD5 = ener_cD5/ener\n",
    "    ratio_cD4 = ener_cD4/ener\n",
    "    ratio_cD3 = ener_cD3/ener\n",
    "    ratio_cD2 = ener_cD2/ener\n",
    "    ratio_cD1 = ener_cD1/ener\n",
    "    feature_list.extend([time_mean,time_std,time_max,time_min,time_rms,time_ptp,time_median,time_iqr,time_pr,time_skew,time_kurtosis,time_var,time_amp,\n",
    "                             time_wavefactor,time_peakfactor,time_pulse,freq_mean,freq_std,freq_max,freq_min,freq_rms,freq_median,\n",
    "                             freq_iqr,freq_pr,freq_f2,freq_f3,freq_f4,freq_f5,freq_f6,freq_f7,freq_f8,ener_cA5,ener_cD1,ener_cD2,ener_cD3,ener_cD4,ener_cD5,\n",
    "                             ratio_cA5,ratio_cD1,ratio_cD2,ratio_cD3,ratio_cD4,ratio_cD5])\n",
    "    return feature_list"
   ]
  },
  {
   "cell_type": "code",
   "execution_count": 6,
   "metadata": {},
   "outputs": [
    {
     "name": "stdout",
     "output_type": "stream",
     "text": [
      "(9, 43)\n"
     ]
    }
   ],
   "source": [
    "data_path='C:/Users/86150/Documents/Tencent Files/1126843613/FileRecv/123.csv'\n",
    "data = pd.read_csv(data_path,header=None,low_memory=False)\n",
    "features = []\n",
    "columns_list=['time_mean','time_std','time_max','time_min','time_rms','time_ptp','time_median','time_iqr','time_pr','time_skew','time_kurtosis','time_var','time_amp','time_wavefactor','time_peakfactor','time_pulse','freq_mean','freq_std','freq_max','freq_min','freq_rms','freq_median','freq_iqr','freq_pr','freq_f2','freq_f3','freq_f4','freq_f5','freq_f6','freq_f7','freq_f8','ener_cA5','ener_cD1','ener_cD2','ener_cD3','ener_cD4','ener_cD5','ratio_cA5','ratio_cD1','ratio_cD2','ratio_cD3','ratio_cD4','ratio_cD5']\n",
    "for i in range(1,10):\n",
    "    fea = feature_get(data.loc[i,1:2560],i)\n",
    "    features.append(fea)\n",
    "result = pd.DataFrame(features,columns = columns_list)\n",
    "#result.to_csv('E:/InternetHM/paderborn-train/out1_testdatashuffle_1.csv', sep=',', header=True, index=False)\n",
    "print(result.shape)"
   ]
  },
  {
   "cell_type": "code",
   "execution_count": null,
   "metadata": {},
   "outputs": [],
   "source": []
  }
 ],
 "metadata": {
  "kernelspec": {
   "display_name": "Python 3.7.4 64-bit ('base': conda)",
   "language": "python",
   "name": "python37464bitbaseconda8910637ce5cb4bc79bd2a17c45f017e6"
  },
  "language_info": {
   "codemirror_mode": {
    "name": "ipython",
    "version": 3
   },
   "file_extension": ".py",
   "mimetype": "text/x-python",
   "name": "python",
   "nbconvert_exporter": "python",
   "pygments_lexer": "ipython3",
   "version": "3.7.4"
  },
  "toc": {
   "base_numbering": 1,
   "nav_menu": {},
   "number_sections": true,
   "sideBar": true,
   "skip_h1_title": false,
   "title_cell": "Table of Contents",
   "title_sidebar": "Contents",
   "toc_cell": false,
   "toc_position": {},
   "toc_section_display": true,
   "toc_window_display": false
  }
 },
 "nbformat": 4,
 "nbformat_minor": 2
}
