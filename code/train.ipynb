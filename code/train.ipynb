{
 "cells": [
  {
   "cell_type": "code",
   "execution_count": 7,
   "metadata": {},
   "outputs": [
    {
     "name": "stdout",
     "output_type": "stream",
     "text": [
      "123\n"
     ]
    }
   ],
   "source": [
    "from sklearn import svm, datasets\n",
    "import matplotlib.pyplot as plt\n",
    "import numpy as np\n",
    "from sklearn.metrics import accuracy_score\n",
    "from sklearn.model_selection import train_test_split\n",
    "import pandas as pd\n",
    "\n",
    "\n",
    "\n",
    "\n",
    "\n",
    "\n",
    "\n",
    "test = pd.read_csv(\"E:/InternetHM/paderborn-train/out1_testdatashuffle_2.csv\")\n",
    "iris = pd.read_csv(\"C:/Users/86150/Documents/tencent files/1126843613/FileRecv/127.csv\")\n",
    "x = iris.iloc[:, :43].values\n",
    "y = iris['label'].values\n",
    "x1 = test.iloc[:, :43].values\n",
    "x_train ,x_test, y_train , y_test = train_test_split(x, y ,random_state = 0,test_size = 0.1)\n",
    "clf = svm.SVC(kernel=\"linear\", C = 1).fit(x_train, y_train)\n",
    "\n",
    "classifier = clf.predict(x1)\n",
    "\n",
    "data_df = pd.DataFrame(classifier)\n",
    "data_df.to_csv('newresultsvm041101last.csv', index=False, float_format='%.1f')\n",
    "print(123)\n"
   ]
  },
  {
   "cell_type": "code",
   "execution_count": null,
   "metadata": {},
   "outputs": [],
   "source": []
  }
 ],
 "metadata": {
  "kernelspec": {
   "display_name": "Python 3.7.4 64-bit ('base': conda)",
   "language": "python",
   "name": "python37464bitbaseconda8910637ce5cb4bc79bd2a17c45f017e6"
  },
  "language_info": {
   "codemirror_mode": {
    "name": "ipython",
    "version": 3
   },
   "file_extension": ".py",
   "mimetype": "text/x-python",
   "name": "python",
   "nbconvert_exporter": "python",
   "pygments_lexer": "ipython3",
   "version": "3.7.4"
  },
  "toc": {
   "base_numbering": 1,
   "nav_menu": {},
   "number_sections": true,
   "sideBar": true,
   "skip_h1_title": false,
   "title_cell": "Table of Contents",
   "title_sidebar": "Contents",
   "toc_cell": false,
   "toc_position": {},
   "toc_section_display": true,
   "toc_window_display": false
  }
 },
 "nbformat": 4,
 "nbformat_minor": 2
}
